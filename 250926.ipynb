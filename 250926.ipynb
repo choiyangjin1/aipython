{
  "nbformat": 4,
  "nbformat_minor": 0,
  "metadata": {
    "colab": {
      "provenance": []
    },
    "kernelspec": {
      "name": "python3",
      "display_name": "Python 3"
    },
    "language_info": {
      "name": "python"
    }
  },
  "cells": [
    {
      "cell_type": "code",
      "execution_count": 18,
      "metadata": {
        "colab": {
          "base_uri": "https://localhost:8080/",
          "height": 490
        },
        "id": "in5EPBT6gKuz",
        "outputId": "6a5e35fb-8c6f-46d5-8839-60e656985678"
      },
      "outputs": [
        {
          "output_type": "stream",
          "name": "stdout",
          "text": [
            "10\n",
            "d\n",
            "20\n",
            "d\n",
            "-1\n",
            "다시 입력해주세요\n"
          ]
        },
        {
          "output_type": "error",
          "ename": "KeyboardInterrupt",
          "evalue": "Interrupted by user",
          "traceback": [
            "\u001b[0;31m---------------------------------------------------------------------------\u001b[0m",
            "\u001b[0;31mKeyboardInterrupt\u001b[0m                         Traceback (most recent call last)",
            "\u001b[0;32m/tmp/ipython-input-2851597202.py\u001b[0m in \u001b[0;36m<cell line: 0>\u001b[0;34m()\u001b[0m\n\u001b[1;32m      3\u001b[0m \u001b[0;34m\u001b[0m\u001b[0m\n\u001b[1;32m      4\u001b[0m \u001b[0;32mwhile\u001b[0m \u001b[0;34m(\u001b[0m\u001b[0;32mTrue\u001b[0m\u001b[0;34m)\u001b[0m \u001b[0;34m:\u001b[0m\u001b[0;34m\u001b[0m\u001b[0;34m\u001b[0m\u001b[0m\n\u001b[0;32m----> 5\u001b[0;31m   \u001b[0mscore\u001b[0m \u001b[0;34m=\u001b[0m \u001b[0mint\u001b[0m\u001b[0;34m(\u001b[0m\u001b[0minput\u001b[0m\u001b[0;34m(\u001b[0m\u001b[0;34m)\u001b[0m\u001b[0;34m)\u001b[0m\u001b[0;34m\u001b[0m\u001b[0;34m\u001b[0m\u001b[0m\n\u001b[0m\u001b[1;32m      6\u001b[0m   \u001b[0;32mif\u001b[0m \u001b[0;34m(\u001b[0m\u001b[0mscore\u001b[0m \u001b[0;34m<\u001b[0m \u001b[0;36m0\u001b[0m \u001b[0;32mor\u001b[0m \u001b[0mscore\u001b[0m \u001b[0;34m>\u001b[0m \u001b[0;36m100\u001b[0m\u001b[0;34m)\u001b[0m \u001b[0;34m:\u001b[0m\u001b[0;34m\u001b[0m\u001b[0;34m\u001b[0m\u001b[0m\n\u001b[1;32m      7\u001b[0m     \u001b[0mprint\u001b[0m \u001b[0;34m(\u001b[0m\u001b[0;34m\"다시 입력해주세요\"\u001b[0m\u001b[0;34m)\u001b[0m\u001b[0;34m\u001b[0m\u001b[0;34m\u001b[0m\u001b[0m\n",
            "\u001b[0;32m/usr/local/lib/python3.12/dist-packages/ipykernel/kernelbase.py\u001b[0m in \u001b[0;36mraw_input\u001b[0;34m(self, prompt)\u001b[0m\n\u001b[1;32m   1175\u001b[0m                 \u001b[0;34m\"raw_input was called, but this frontend does not support input requests.\"\u001b[0m\u001b[0;34m\u001b[0m\u001b[0;34m\u001b[0m\u001b[0m\n\u001b[1;32m   1176\u001b[0m             )\n\u001b[0;32m-> 1177\u001b[0;31m         return self._input_request(\n\u001b[0m\u001b[1;32m   1178\u001b[0m             \u001b[0mstr\u001b[0m\u001b[0;34m(\u001b[0m\u001b[0mprompt\u001b[0m\u001b[0;34m)\u001b[0m\u001b[0;34m,\u001b[0m\u001b[0;34m\u001b[0m\u001b[0;34m\u001b[0m\u001b[0m\n\u001b[1;32m   1179\u001b[0m             \u001b[0mself\u001b[0m\u001b[0;34m.\u001b[0m\u001b[0m_parent_ident\u001b[0m\u001b[0;34m[\u001b[0m\u001b[0;34m\"shell\"\u001b[0m\u001b[0;34m]\u001b[0m\u001b[0;34m,\u001b[0m\u001b[0;34m\u001b[0m\u001b[0;34m\u001b[0m\u001b[0m\n",
            "\u001b[0;32m/usr/local/lib/python3.12/dist-packages/ipykernel/kernelbase.py\u001b[0m in \u001b[0;36m_input_request\u001b[0;34m(self, prompt, ident, parent, password)\u001b[0m\n\u001b[1;32m   1217\u001b[0m             \u001b[0;32mexcept\u001b[0m \u001b[0mKeyboardInterrupt\u001b[0m\u001b[0;34m:\u001b[0m\u001b[0;34m\u001b[0m\u001b[0;34m\u001b[0m\u001b[0m\n\u001b[1;32m   1218\u001b[0m                 \u001b[0;31m# re-raise KeyboardInterrupt, to truncate traceback\u001b[0m\u001b[0;34m\u001b[0m\u001b[0;34m\u001b[0m\u001b[0m\n\u001b[0;32m-> 1219\u001b[0;31m                 \u001b[0;32mraise\u001b[0m \u001b[0mKeyboardInterrupt\u001b[0m\u001b[0;34m(\u001b[0m\u001b[0;34m\"Interrupted by user\"\u001b[0m\u001b[0;34m)\u001b[0m \u001b[0;32mfrom\u001b[0m \u001b[0;32mNone\u001b[0m\u001b[0;34m\u001b[0m\u001b[0;34m\u001b[0m\u001b[0m\n\u001b[0m\u001b[1;32m   1220\u001b[0m             \u001b[0;32mexcept\u001b[0m \u001b[0mException\u001b[0m\u001b[0;34m:\u001b[0m\u001b[0;34m\u001b[0m\u001b[0;34m\u001b[0m\u001b[0m\n\u001b[1;32m   1221\u001b[0m                 \u001b[0mself\u001b[0m\u001b[0;34m.\u001b[0m\u001b[0mlog\u001b[0m\u001b[0;34m.\u001b[0m\u001b[0mwarning\u001b[0m\u001b[0;34m(\u001b[0m\u001b[0;34m\"Invalid Message:\"\u001b[0m\u001b[0;34m,\u001b[0m \u001b[0mexc_info\u001b[0m\u001b[0;34m=\u001b[0m\u001b[0;32mTrue\u001b[0m\u001b[0;34m)\u001b[0m\u001b[0;34m\u001b[0m\u001b[0;34m\u001b[0m\u001b[0m\n",
            "\u001b[0;31mKeyboardInterrupt\u001b[0m: Interrupted by user"
          ]
        }
      ],
      "source": [
        "#점수(1~100)를 입력 받아서 학점을 abcd 로 구분하시오\n",
        "# a는 90점 이상, b 는 70점 이상, c 는 60 점 이상, 나머지는 d\n",
        "\n",
        "while (True) :\n",
        "  score = int(input())\n",
        "  if (score < 0 or score > 100) :\n",
        "    print (\"다시 입력해주세요\")\n",
        "    continue\n",
        "  elif(score >=90) :\n",
        "    print (\"a\")\n",
        "  elif(score >=90) :\n",
        "    print (\"b\")\n",
        "  elif(score >=90) :\n",
        "    print (\"c\")\n",
        "  else :\n",
        "    print(\"d\")\n"
      ]
    },
    {
      "cell_type": "code",
      "source": [
        "#1-100까지 짝수합과 홀수합을 출력하시오\n",
        "#방법1\n",
        "\n",
        "sum1 = 0\n",
        "sum2 = 0\n",
        "\n",
        "for i in range(1,101) :\n",
        "  if(i % 2 ==0) :\n",
        "    sum1 = sum1 + i\n",
        "  else :\n",
        "    sum2 = sum2 + i\n",
        "print(\"짝수합 : \", sum1)\n",
        "print(\"홀수합 : \", sum2)\n"
      ],
      "metadata": {
        "colab": {
          "base_uri": "https://localhost:8080/"
        },
        "id": "dwjlNzVCzyvI",
        "outputId": "65ba9863-2317-494b-a23f-c315fd708de2"
      },
      "execution_count": 39,
      "outputs": [
        {
          "output_type": "stream",
          "name": "stdout",
          "text": [
            "짝수합 :  2550\n",
            "홀수합 :  2500\n"
          ]
        }
      ]
    },
    {
      "cell_type": "code",
      "source": [
        "#1-100까지 짝수합과 홀수합을 출력하시오\n",
        "#방법2\n",
        "\n",
        "sum = 0\n",
        "for i in range(1,100,2) :\n",
        "  sum += i\n",
        "print(\"홀수합 :\", sum)\n",
        "\n",
        "sum = 0\n",
        "for i in range(0,102,2) :\n",
        "  sum += i\n",
        "print(\"짝수합 :\", sum)\n",
        "\n",
        "\n"
      ],
      "metadata": {
        "colab": {
          "base_uri": "https://localhost:8080/"
        },
        "id": "544V3wkA2BNA",
        "outputId": "bd6406c7-4cff-466d-f278-0adeebda441a"
      },
      "execution_count": 38,
      "outputs": [
        {
          "output_type": "stream",
          "name": "stdout",
          "text": [
            "홀수합 : 2500\n",
            "짝수합 : 2550\n"
          ]
        }
      ]
    },
    {
      "cell_type": "code",
      "source": [
        "#매일 저금하는 금액을 100원씩 늘려가며 총 5만 원을 모으려면 며칠이 걸리는지 계산하는 프로그램\n",
        "\n",
        "day=1\n",
        "money=0\n",
        "\n",
        "while(money<=50000) :\n",
        "  money = money + 100*day\n",
        "  day = day +1\n",
        "print(day)"
      ],
      "metadata": {
        "colab": {
          "base_uri": "https://localhost:8080/"
        },
        "id": "7vAF031M3e4l",
        "outputId": "bb18b420-67c2-48c1-d137-f043520ddf3b"
      },
      "execution_count": 40,
      "outputs": [
        {
          "output_type": "stream",
          "name": "stdout",
          "text": [
            "33\n"
          ]
        }
      ]
    },
    {
      "cell_type": "code",
      "source": [
        "#매일 저금하는 금액을 100원씩 늘려가며 총 5만 원을 모으려면 며칠이 걸리는지 계산하는 프로그램\n",
        "\n",
        "sum = 0 # 저금 총액\n",
        "money = 100 # 첫날 저금할 금액\n",
        "day = 1 # 날짜\n",
        "# 저금 총액(sum)이 50000보다 작은 동안 계속 반복\n",
        "while(sum < 50000):\n",
        "  sum = sum + money # 총액에 오늘의 저금액을 더함\n",
        "  money = money + 100 # 내일 저금할 금액은 100원 증가\n",
        "  day = day + 1 # 날짜를 하루 증가\n",
        "print(\"총\", day, \"일이 걸립니다.\")"
      ],
      "metadata": {
        "colab": {
          "base_uri": "https://localhost:8080/"
        },
        "id": "QbpHGHOr4OJY",
        "outputId": "a3912b9a-d747-4e07-fb28-720ba3b4cd43"
      },
      "execution_count": 43,
      "outputs": [
        {
          "output_type": "stream",
          "name": "stdout",
          "text": [
            "총 33 일이 걸립니다.\n"
          ]
        }
      ]
    },
    {
      "cell_type": "code",
      "source": [
        "#숫자를 입력받아서 총합을 구하는 프로그램을 작성하시오. 단 0이 입력되면 종료되고 최종 총합을 출력한다\n",
        "\n",
        "sum =0\n",
        "\n",
        "while(True) :\n",
        "  num = int(input())\n",
        "  if(num == 0) :\n",
        "    break\n",
        "  else:\n",
        "    sum = sum + num\n",
        "print(\"총합: \",sum)"
      ],
      "metadata": {
        "colab": {
          "base_uri": "https://localhost:8080/"
        },
        "id": "qiPC02iQ4YFg",
        "outputId": "228df50a-dc85-4882-800b-657b3b3f021c"
      },
      "execution_count": 49,
      "outputs": [
        {
          "output_type": "stream",
          "name": "stdout",
          "text": [
            "1\n",
            "2\n",
            "3\n",
            "1\n",
            "2\n",
            "0\n",
            "총합:  9\n"
          ]
        }
      ]
    }
  ]
}