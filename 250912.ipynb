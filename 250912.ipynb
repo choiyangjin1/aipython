{
  "nbformat": 4,
  "nbformat_minor": 0,
  "metadata": {
    "colab": {
      "provenance": []
    },
    "kernelspec": {
      "name": "python3",
      "display_name": "Python 3"
    },
    "language_info": {
      "name": "python"
    }
  },
  "cells": [
    {
      "cell_type": "code",
      "execution_count": null,
      "metadata": {
        "id": "C_WJ3T-jqp-d"
      },
      "outputs": [],
      "source": [
        "import numpy as np"
      ]
    },
    {
      "cell_type": "code",
      "source": [
        "# 간단한 배열 만들기\n",
        "numbers = np.array([1, 2, 3, 4, 5])\n",
        "print(\"평균:\", np.mean(numbers))\n",
        "print(\"합계:\", np.sum(numbers))"
      ],
      "metadata": {
        "colab": {
          "base_uri": "https://localhost:8080/"
        },
        "id": "rO-ZD9G3XtrL",
        "outputId": "e005ff40-3c01-47b8-fb6b-7c64fa9a32e1"
      },
      "execution_count": null,
      "outputs": [
        {
          "output_type": "stream",
          "name": "stdout",
          "text": [
            "평균: 3.0\n",
            "합계: 15\n"
          ]
        }
      ]
    },
    {
      "cell_type": "code",
      "source": [
        "# 2차원 배열 (행렬) 만들기\n",
        "matrix = np.array([[1, 2], [3, 4]])\n",
        "print(\"행렬:\\n\", matrix)"
      ],
      "metadata": {
        "colab": {
          "base_uri": "https://localhost:8080/"
        },
        "id": "2wtx9_uLX4UL",
        "outputId": "912f48f2-117c-4567-a89f-9ebeed1da440"
      },
      "execution_count": null,
      "outputs": [
        {
          "output_type": "stream",
          "name": "stdout",
          "text": [
            "행렬:\n",
            " [[1 2]\n",
            " [3 4]]\n"
          ]
        }
      ]
    },
    {
      "cell_type": "code",
      "source": [
        "import pandas as pd\n",
        "# 간단한 데이터 만들기\n",
        "students = pd.DataFrame({\n",
        "'이름': ['김철수', '이영희', '박민수'],\n",
        "'수학': [85, 92, 78],\n",
        "'영어': [78, 85, 90]})\n",
        "print(\"이영희 학생 데이터: \\n\", students.loc[1,'수학'])"
      ],
      "metadata": {
        "colab": {
          "base_uri": "https://localhost:8080/"
        },
        "id": "JCWeUeqwfvxg",
        "outputId": "6bec0679-1bda-442d-c49f-2057175a71a5"
      },
      "execution_count": 16,
      "outputs": [
        {
          "output_type": "stream",
          "name": "stdout",
          "text": [
            "이영희 학생 데이터: \n",
            " 92\n"
          ]
        }
      ]
    },
    {
      "cell_type": "code",
      "source": [],
      "metadata": {
        "id": "j4cA61LqhXZ4"
      },
      "execution_count": null,
      "outputs": []
    }
  ]
}