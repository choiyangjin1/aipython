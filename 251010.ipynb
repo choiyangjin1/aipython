{
  "nbformat": 4,
  "nbformat_minor": 0,
  "metadata": {
    "colab": {
      "provenance": []
    },
    "kernelspec": {
      "name": "python3",
      "display_name": "Python 3"
    },
    "language_info": {
      "name": "python"
    }
  },
  "cells": [
    {
      "cell_type": "code",
      "execution_count": null,
      "metadata": {
        "colab": {
          "base_uri": "https://localhost:8080/"
        },
        "id": "fVp_4blKxLSa",
        "outputId": "36a6b836-3a90-4821-bf9f-f17ddbb86e93"
      },
      "outputs": [
        {
          "output_type": "stream",
          "name": "stdout",
          "text": [
            "태조\n",
            "1 대\n"
          ]
        }
      ],
      "source": [
        "dynasties = [\"태조\", \"정조\", \"태정\", \"세종\", \"문종\", \"단종\", \"세조\", \"예종\", \"성종\", \"연산군\", \"증종\", \"인종\", \"명종\", \"선조\", \"광해군\", \"인조\", \"효종\", \"현종\", \"숙종\",\"경종\", \"영조\", \"정조\", \"순조\", \"헌종\", \"철종\", \"고종\", \"순종\"]\n",
        "\n",
        "while True :\n",
        "  userInput = input()\n",
        "\n",
        "  if userInput.isdigit() :\n",
        "    num_input = int(userInput)\n",
        "    if num_input<28 and num_input>0 :\n",
        "      print(dynasties[ num_input-1])\n",
        "      break\n",
        "    else :\n",
        "      print(\"다시 입력해주세요\")\n",
        "      continue\n",
        "\n",
        "  else :\n",
        "    if userInput in dynasties :\n",
        "      print(dynasties.index(userInput)+1,\"대\")\n",
        "      break\n",
        "    else :\n",
        "        print(\"다시 입력해주세요\")\n",
        "        continue"
      ]
    },
    {
      "cell_type": "code",
      "source": [
        "print(\"\\\"한글\\\"\\t시용법\")"
      ],
      "metadata": {
        "colab": {
          "base_uri": "https://localhost:8080/"
        },
        "id": "jwtJ1lZ41B3R",
        "outputId": "637f62e8-c60d-4832-dc65-1f9d2fc27a5e"
      },
      "execution_count": null,
      "outputs": [
        {
          "output_type": "stream",
          "name": "stdout",
          "text": [
            "\"한글\"\t시용법\n"
          ]
        }
      ]
    },
    {
      "cell_type": "code",
      "source": [
        "coffee = {'아메리카노' : 2000, '라떼': 3000, '녹차' :2500}\n",
        "coffee['아메리카노']\n",
        "for k in coffee :\n",
        "  print(k)\n",
        "  print(coffee[k])"
      ],
      "metadata": {
        "id": "yf1sTMoI19Ff",
        "colab": {
          "base_uri": "https://localhost:8080/"
        },
        "outputId": "ad504750-6cf8-4c96-c86a-55045f01f0a4"
      },
      "execution_count": 19,
      "outputs": [
        {
          "output_type": "stream",
          "name": "stdout",
          "text": [
            "아메리카노\n",
            "2000\n",
            "라떼\n",
            "3000\n",
            "녹차\n",
            "2500\n"
          ]
        }
      ]
    },
    {
      "cell_type": "code",
      "source": [
        "scores = {'홍길동': 100, '이순신' : 90, '강감찬' : 80}\n",
        "#전체 평균\n",
        "\n",
        "scoresList = []\n",
        "\n",
        "for k in scores :\n",
        "  scoresList.append(scores[k])\n",
        "scores_sum = sum(scoresList)\n",
        "score_avg = sum(scoresList)/len(scoresList)\n",
        "\n",
        "print(scores_sum)\n",
        "print(score_avg)\n"
      ],
      "metadata": {
        "colab": {
          "base_uri": "https://localhost:8080/"
        },
        "id": "dlAXRZZ4Av4I",
        "outputId": "c870acbe-910a-4c84-e8ac-ec21d282324b"
      },
      "execution_count": 24,
      "outputs": [
        {
          "output_type": "stream",
          "name": "stdout",
          "text": [
            "90.0\n",
            "270\n"
          ]
        }
      ]
    },
    {
      "cell_type": "code",
      "source": [],
      "metadata": {
        "id": "tJpxbrz9C93G"
      },
      "execution_count": null,
      "outputs": []
    },
    {
      "cell_type": "code",
      "source": [],
      "metadata": {
        "id": "GANazP77B4Of"
      },
      "execution_count": null,
      "outputs": []
    }
  ]
}