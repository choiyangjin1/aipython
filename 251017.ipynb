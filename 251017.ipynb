{
  "nbformat": 4,
  "nbformat_minor": 0,
  "metadata": {
    "colab": {
      "provenance": []
    },
    "kernelspec": {
      "name": "python3",
      "display_name": "Python 3"
    },
    "language_info": {
      "name": "python"
    }
  },
  "cells": [
    {
      "cell_type": "code",
      "execution_count": 5,
      "metadata": {
        "colab": {
          "base_uri": "https://localhost:8080/"
        },
        "id": "mLoCnltH5hY_",
        "outputId": "e8bd98f4-38a0-463f-d4b4-407d38c319b6"
      },
      "outputs": [
        {
          "output_type": "stream",
          "name": "stdout",
          "text": [
            "사용자명 : user, 도메인 example.com\n"
          ]
        }
      ],
      "source": [
        "email = \"user@example.com\"\n",
        "username, domain = email.split(\"@\")\n",
        "print(f\"사용자명 : {username}, 도메인 {domain}\")"
      ]
    },
    {
      "cell_type": "code",
      "source": [
        "csv_data = \"김철수,30,서울,개발\"\n",
        "data_list = csv_data.split(\",\")\n",
        "print(f\"분리된 데이터 : {data_list}\")"
      ],
      "metadata": {
        "colab": {
          "base_uri": "https://localhost:8080/"
        },
        "id": "sctQJYqX7Pd9",
        "outputId": "b0612607-0f51-45a2-c190-c9a3ce090580"
      },
      "execution_count": 7,
      "outputs": [
        {
          "output_type": "stream",
          "name": "stdout",
          "text": [
            "분리된 데이터 : ['김철수', '30', '서울', '개발']\n"
          ]
        }
      ]
    },
    {
      "cell_type": "code",
      "source": [
        "folders = [\"home\", \"user\",\"documents\", \"project\"]\n",
        "path = \">\".join(folders)\n",
        "print(f\"경로 : {path}\")"
      ],
      "metadata": {
        "colab": {
          "base_uri": "https://localhost:8080/"
        },
        "id": "46Smdh1f6XEY",
        "outputId": "8f7cad97-b931-4ffc-95dc-267fad9396b2"
      },
      "execution_count": 6,
      "outputs": [
        {
          "output_type": "stream",
          "name": "stdout",
          "text": [
            "경로 : home>user>documents>project\n"
          ]
        }
      ]
    },
    {
      "cell_type": "code",
      "source": [
        "words = [\"Python\", \"is\", \"awesome\"]\n",
        "sentence = \" \".join(words)\n",
        "print(f\"문장: {sentence}\")"
      ],
      "metadata": {
        "colab": {
          "base_uri": "https://localhost:8080/"
        },
        "id": "65JOYEBP7TaW",
        "outputId": "91f92869-9d6c-44d4-a9f1-3594ee34fd89"
      },
      "execution_count": 8,
      "outputs": [
        {
          "output_type": "stream",
          "name": "stdout",
          "text": [
            "문장: Python is awesome\n"
          ]
        }
      ]
    },
    {
      "cell_type": "code",
      "source": [
        "multiples_of_3 = [x for x in range(1, 21) if x % 3 == 0]\n",
        "print(f\"3의 배수: {multiples_of_3}\")"
      ],
      "metadata": {
        "colab": {
          "base_uri": "https://localhost:8080/",
          "height": 108
        },
        "id": "V_chko_t8FrR",
        "outputId": "90e4262c-7432-4e91-df61-734a634c2719"
      },
      "execution_count": 26,
      "outputs": [
        {
          "output_type": "error",
          "ename": "SyntaxError",
          "evalue": "expected 'else' after 'if' expression (ipython-input-154200323.py, line 1)",
          "traceback": [
            "\u001b[0;36m  File \u001b[0;32m\"/tmp/ipython-input-154200323.py\"\u001b[0;36m, line \u001b[0;32m1\u001b[0m\n\u001b[0;31m    multiples_of_3 = [x if x%3==0 for x in range(1,20) ]\u001b[0m\n\u001b[0m                      ^\u001b[0m\n\u001b[0;31mSyntaxError\u001b[0m\u001b[0;31m:\u001b[0m expected 'else' after 'if' expression\n"
          ]
        }
      ]
    },
    {
      "cell_type": "code",
      "source": [
        "fruits = [\"apple\", \"banana\", \"cherry\"]\n",
        "upper_fruits = [fruits[x].upper() for x in range(len(fruits))]\n",
        "print(f\"대문자 과일: {upper_fruits}\")"
      ],
      "metadata": {
        "colab": {
          "base_uri": "https://localhost:8080/"
        },
        "id": "SaC_HL9D8s0_",
        "outputId": "e5f987e6-9b05-4e3f-ebf0-f3bd1b7be1e4"
      },
      "execution_count": 15,
      "outputs": [
        {
          "output_type": "stream",
          "name": "stdout",
          "text": [
            "대문자 과일: ['APPLE', 'BANANA', 'CHERRY']\n"
          ]
        }
      ]
    },
    {
      "cell_type": "code",
      "source": [
        "words = [\"Python\", \"is\", \"powerful\"]\n",
        "word_lengths = [len(words[x])    for x in range(len(words))]\n",
        "print(f\"단어 길이: {word_lengths}\")"
      ],
      "metadata": {
        "colab": {
          "base_uri": "https://localhost:8080/"
        },
        "id": "kTs3QgTE9iYR",
        "outputId": "11d8ffa8-0881-47fc-f0eb-2828d0054cb1"
      },
      "execution_count": 18,
      "outputs": [
        {
          "output_type": "stream",
          "name": "stdout",
          "text": [
            "단어 길이: [6, 2, 8]\n"
          ]
        }
      ]
    },
    {
      "cell_type": "code",
      "source": [
        "numbers = [1, 2, 3, 4, 5, 6]\n",
        "processed = [x**2     if x % 2 == 0 else x     for x in numbers]\n",
        "print(f\"처리된 숫자: {processed}\")"
      ],
      "metadata": {
        "colab": {
          "base_uri": "https://localhost:8080/"
        },
        "id": "Ue40cClz93hr",
        "outputId": "04fdd44b-0a7c-4985-f29a-5f80e1e9833f"
      },
      "execution_count": 28,
      "outputs": [
        {
          "output_type": "stream",
          "name": "stdout",
          "text": [
            "처리된 숫자: [1, 4, 3, 16, 5, 36]\n"
          ]
        }
      ]
    },
    {
      "cell_type": "code",
      "source": [
        "scores = [95, 87, 92, 88]\n",
        "print(\"성적 순위:\")\n",
        "for rank, score in enumerate(scores, start=1):\n",
        "  print(f\" {rank}등: {score}점\")"
      ],
      "metadata": {
        "colab": {
          "base_uri": "https://localhost:8080/"
        },
        "id": "lhdeVHv-DHPj",
        "outputId": "cccb3fac-0625-4cce-b24f-66d6900e448c"
      },
      "execution_count": 30,
      "outputs": [
        {
          "output_type": "stream",
          "name": "stdout",
          "text": [
            "성적 순위:\n",
            " 1등: 95점\n",
            " 2등: 87점\n",
            " 3등: 92점\n",
            " 4등: 88점\n"
          ]
        }
      ]
    },
    {
      "cell_type": "code",
      "source": [
        "students = [\"철수\",\"영희\",\"민수\"]\n",
        "scores = [85, 92, 78]\n",
        "grades = [\"B\", \"A\", \"C\"]\n",
        "print(\"\\n학생 성적표:\")\n",
        "for name, score, grade in zip(students, scores, grades):\n",
        "  print(f\" {name}: {score}점 ({grade}학점)\")"
      ],
      "metadata": {
        "colab": {
          "base_uri": "https://localhost:8080/"
        },
        "id": "1ywkk_dtDTTL",
        "outputId": "bc753cca-6d7a-4879-8b47-f424fdcd01e2"
      },
      "execution_count": 31,
      "outputs": [
        {
          "output_type": "stream",
          "name": "stdout",
          "text": [
            "\n",
            "학생 성적표:\n",
            " 철수: 85점 (B학점)\n",
            " 영희: 92점 (A학점)\n",
            " 민수: 78점 (C학점)\n"
          ]
        }
      ]
    },
    {
      "cell_type": "code",
      "source": [
        "keys = [\"name\", \"age\", \"city\"]\n",
        "values = [\"홍길동\", 25,\"부산\"]\n",
        "person_dict = dict(zip(keys, values))\n",
        "print(f\"\\n딕셔너리: {person_dict}\")"
      ],
      "metadata": {
        "colab": {
          "base_uri": "https://localhost:8080/"
        },
        "id": "_q7In6T-DcX4",
        "outputId": "66a06700-2a5c-409f-f56f-b64f3ce41e5f"
      },
      "execution_count": 32,
      "outputs": [
        {
          "output_type": "stream",
          "name": "stdout",
          "text": [
            "\n",
            "딕셔너리: {'name': '홍길동', 'age': 25, 'city': '부산'}\n"
          ]
        }
      ]
    },
    {
      "cell_type": "code",
      "source": [
        "celsius = [0, 10, 20, 30, 40]\n",
        "fahrenheit = list(map(lambda c: c * 9/5 + 32, celsius))\n",
        "print(f\"섭씨: {celsius}\")\n",
        "print(f\"화씨: {fahrenheit}\")"
      ],
      "metadata": {
        "colab": {
          "base_uri": "https://localhost:8080/"
        },
        "id": "UhIyS4WvDfJd",
        "outputId": "c84756eb-e367-4f7e-8b48-cdcf530da7d6"
      },
      "execution_count": 33,
      "outputs": [
        {
          "output_type": "stream",
          "name": "stdout",
          "text": [
            "섭씨: [0, 10, 20, 30, 40]\n",
            "화씨: [32.0, 50.0, 68.0, 86.0, 104.0]\n"
          ]
        }
      ]
    },
    {
      "cell_type": "code",
      "source": [
        "numbers = [-5, 3,-1, 8, 0,-3, 7]\n",
        "positive = list(filter(lambda x: x > 0, numbers))\n",
        "print(f\"전체 숫자: {numbers}\")\n",
        "print(f\"양수만: {positive}\")"
      ],
      "metadata": {
        "colab": {
          "base_uri": "https://localhost:8080/"
        },
        "id": "cloWKSPFDsEK",
        "outputId": "ad19068c-c8de-4875-be81-1d52a211f49c"
      },
      "execution_count": 34,
      "outputs": [
        {
          "output_type": "stream",
          "name": "stdout",
          "text": [
            "전체 숫자: [-5, 3, -1, 8, 0, -3, 7]\n",
            "양수만: [3, 8, 7]\n"
          ]
        }
      ]
    }
  ]
}