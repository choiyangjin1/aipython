{
  "nbformat": 4,
  "nbformat_minor": 0,
  "metadata": {
    "colab": {
      "provenance": []
    },
    "kernelspec": {
      "name": "python3",
      "display_name": "Python 3"
    },
    "language_info": {
      "name": "python"
    }
  },
  "cells": [
    {
      "cell_type": "code",
      "execution_count": null,
      "metadata": {
        "id": "C_WJ3T-jqp-d"
      },
      "outputs": [],
      "source": [
        "import numpy as np"
      ]
    },
    {
      "cell_type": "code",
      "source": [
        "a = 7\n",
        "b = 11\n",
        "c = a\n",
        "a = b\n",
        "b = c\n",
        "print (a, b)\n",
        "\n",
        "#a와 b를 컵이라고 생각하고 콜라와 사이다가 들어있는 상태라고 하자. 두 내용물을 바꾸려면 어떻게 해야할까"
      ],
      "metadata": {
        "id": "j4cA61LqhXZ4",
        "colab": {
          "base_uri": "https://localhost:8080/"
        },
        "outputId": "bfb4d7bb-a5bb-44f9-8f77-53d37be7d837"
      },
      "execution_count": null,
      "outputs": [
        {
          "output_type": "stream",
          "name": "stdout",
          "text": [
            "11 7\n"
          ]
        }
      ]
    },
    {
      "cell_type": "code",
      "source": [
        "a = 3\n",
        "for i in range (0,3):\n",
        "    print(a)\n",
        "    a += 3\n"
      ],
      "metadata": {
        "colab": {
          "base_uri": "https://localhost:8080/"
        },
        "id": "8h0vy_D-k4Dm",
        "outputId": "1fd96384-ce8f-4ef1-aa7c-d8de5c29414f"
      },
      "execution_count": null,
      "outputs": [
        {
          "output_type": "stream",
          "name": "stdout",
          "text": [
            "3\n",
            "6\n",
            "9\n"
          ]
        }
      ]
    },
    {
      "cell_type": "code",
      "source": [
        "r = int(input())\n",
        "circle = r*r*3.14\n",
        "print(circle)"
      ],
      "metadata": {
        "colab": {
          "base_uri": "https://localhost:8080/"
        },
        "id": "zby5WLPg3WTZ",
        "outputId": "d392cb5e-79ca-4c24-97e4-d19aa4949994"
      },
      "execution_count": 9,
      "outputs": [
        {
          "output_type": "stream",
          "name": "stdout",
          "text": [
            "10\n",
            "314.0\n"
          ]
        }
      ]
    }
  ]
}